{
 "cells": [
  {
   "cell_type": "markdown",
   "metadata": {},
   "source": [
    "# Jupyter Notebook\n",
    "\n",
    "Užitečný nástroj, který vědcům a datovým analytikům ulehčuje práci, se jmenuje Jupyter Notebook. Je to webová verze pythonní konzole, kde můžeme psát příkazy a kontrolovat výstup.\n",
    "\n",
    "Na rozdíl od klasické konzole se v Notebooku příkazy (a jejich výstup) ukládají, a je tedy jednoduché se k nim vracet, upravovat je a přidávat komentáře. Mezi příkazy se pak dá psát text ve značkovacím jazyce Markdown, a plynule tak přecházet od pokusů a poznámek přes kód, který se dá sdílet, až po slajdy k prezentaci nebo dokonce publikovatelnou vědeckou práci (na což už jsou ale potřeba další nástroje).\n",
    "V Jupyter Notebooku jsou psány i tyto materiály.\n",
    "\n",
    "Samotný Jupyter je napsaný v Pythonu, ale podporuje i jiné jazyky. Název pochází z JUlia, PYThon, R; kromě nich existují *kernely*  pro [desítky dalších jazyků](https://github.com/ipython/ipython/wiki/IPython-kernels-for-other-languages).\n",
    "Pro pythonní verzi stačí z PyPI nainstalovat balíček `notebook` (nebo `jupyter`, který „přitáhne” víc funkcionality).\n",
    "\n",
    "Před instalací ale doporučuji aktualizovat samotný pip. (Virtuální prostředí bývají občas vytvářena s verzí pipu, která neumí pracovat s wheels – binárním formátem, ze kterého se instaluje mnohem rychleji než ze zdrojového kódu.)\n",
    "\n",
    "```console\n",
    "$ python -m pip install --upgrade pip wheel\n",
    "$ python -m pip install notebook\n",
    "```\n",
    "\n",
    "Tato instalace v některých případech vyžaduje nainstalované překladače jazyků jako C. Na školních systémech by měly být nainstalovány; v Linuxových distribucích jsou potřeba balíčky jako `gcc` a `python3-devel`. Kdyby se instalace nepovedla, potřebná závislost lze většinou dohledat pomocí chybových hlášek.\n",
    "\n",
    "Nainstalovaný Notebook pusťte pomocí:\n",
    "\n",
    "```console\n",
    "$ python -m notebook\n",
    "```\n",
    "\n",
    "V prohlížeči se otevře stránka se seznamem souborů v aktuálním adresáři; nový notebook se dá vytvořit přes tlačítko `New`→`Python 3`.\n",
    "\n",
    "## Jak na Notebook\n",
    "\n",
    "Nově vytvořený notebook má jednu buňku (*cell*), do které zapište kód a stiskněte <kbd>Shift</kbd>+<kbd>Enter</kbd>. Tím se kód vykoná, zobrazí se výstup a vytvoří se nová buňka, kam se dá psát další kód.\n",
    "\n",
    "Kód se spouští pomocí <kbd>Shift</kbd>+<kbd>Enter</kbd> (a podobných příkazů); nezáleží na pořadí buněk v dokumentu. Je ale dobré psát buňky tak, aby při postupném spouštění (nebo Run All z menu Cell) kód fungoval – např. dávat importy na začátek.\n",
    "\n",
    "Notebook je založený na konzoli IPython, která přidává některé vychytávky: doplňování pomocí <kbd>tab</kbd>, spouštění shellových příkazů pomocí `!` nebo zobrazení nápovědy pomocí zadání `?` za výrazem. Vyzkoušejte např.:\n",
    "\n",
    "```\n",
    "str.l<TAB>\n",
    "! ls -a<SHIFT+ENTER>\n",
    "str.lower?<SHIFT+ENTER>\n",
    "```\n",
    "\n",
    "Kód v buňce může být víceřádkový. Je-li poslední příkaz v buňce výrazem, jeho hodnota se vypíše jako výsledek buňky:"
   ]
  },
  {
   "cell_type": "code",
   "execution_count": 2,
   "metadata": {},
   "outputs": [
    {
     "data": {
      "text/plain": [
       "4"
      ]
     },
     "execution_count": 2,
     "metadata": {},
     "output_type": "execute_result"
    }
   ],
   "source": [
    "1+1  # Nevypíše se (není poslední příkaz)\n",
    "2+2  # Vypíše se"
   ]
  },
  {
   "cell_type": "code",
   "execution_count": 3,
   "metadata": {},
   "outputs": [
    {
     "name": "stdout",
     "output_type": "stream",
     "text": [
      "[5, 6, 3, 2]\n"
     ]
    },
    {
     "data": {
      "text/plain": [
       "[2, 3, 5, 6]"
      ]
     },
     "execution_count": 3,
     "metadata": {},
     "output_type": "execute_result"
    }
   ],
   "source": [
    "seznam = [5, 6, 3, 2]\n",
    "print(seznam)  # print() funguje\n",
    "seznam.sort()\n",
    "seznam         # Poslední výraz se vypíše"
   ]
  },
  {
   "cell_type": "markdown",
   "metadata": {},
   "source": [
    "Další možnosti, jako např. změna typu buňky na Markdown, jsou dostupné z menu nebo klávesovými zkratkami."
   ]
  }
 ],
 "metadata": {
  "kernelspec": {
   "display_name": "Python 3",
   "language": "python",
   "name": "python3"
  },
  "language_info": {
   "codemirror_mode": {
    "name": "ipython",
    "version": 3
   },
   "file_extension": ".py",
   "mimetype": "text/x-python",
   "name": "python",
   "nbconvert_exporter": "python",
   "pygments_lexer": "ipython3",
   "version": "3.6.2"
  }
 },
 "nbformat": 4,
 "nbformat_minor": 2
}
